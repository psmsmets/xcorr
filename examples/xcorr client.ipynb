{
 "cells": [
  {
   "cell_type": "markdown",
   "metadata": {},
   "source": [
    "# CC Scheme"
   ]
  },
  {
   "cell_type": "code",
   "execution_count": 1,
   "metadata": {
    "scrolled": false
   },
   "outputs": [],
   "source": [
    "%load_ext autoreload\n",
    "%autoreload 2\n",
    "\n",
    "import warnings\n",
    "warnings.simplefilter(action='ignore', category=FutureWarning)\n",
    "\n",
    "import numpy as np\n",
    "import pandas as pd\n",
    "import xarray as xr\n",
    "import matplotlib.pyplot as plt\n",
    "from obspy import UTCDateTime, read_inventory\n",
    "import os\n",
    "import ccf"
   ]
  },
  {
   "cell_type": "code",
   "execution_count": null,
   "metadata": {},
   "outputs": [],
   "source": [
    "%matplotlib notebook"
   ]
  },
  {
   "cell_type": "code",
   "execution_count": null,
   "metadata": {
    "scrolled": true
   },
   "outputs": [],
   "source": [
    "client = ccf.Client(sds_root='/Users/psmets/Documents/Research/_data/WaveformArchive')"
   ]
  },
  {
   "cell_type": "code",
   "execution_count": null,
   "metadata": {},
   "outputs": [],
   "source": [
    "# general parameters\n",
    "sampling_rate = 50.\n",
    "window_length = 86400. # 24h\n",
    "window_overlap = 21./24. # 3h shift\n",
    "clip_lag = pd.to_timedelta((0,6),unit='h')\n",
    "poi = {'name': 'MVC', 'latitude': -25.887, 'longitude': -177.188, 'elevation': 0., 'local_depth': 132.}\n",
    "\n",
    "attrs = {\n",
    "    'title': 'Monowai Volcanic Centre',\n",
    "    'institution': 'Delft University of Technology, Department of Geoscience and Engineering',\n",
    "    'author': 'Pieter Smets - P.S.M.Smets@tudelft.nl',\n",
    "    'source': 'CTBTO/IMS hydroacoustic data and IRIS/USGS seismic data',\n",
    "}\n",
    "\n",
    "# stream preprocess operations (sequential!)\n",
    "preprocess = {\n",
    "    'BHZ': [\n",
    "        ('merge', { 'method': 1, 'fill_value': 'interpolate', 'interpolation_samples':0 }),\n",
    "        ('filter', {'type':'highpass','freq':.05}),\n",
    "        ('detrend', { 'type': 'demean' }),\n",
    "        ('remove_response', {'output': 'VEL'}),\n",
    "        ('filter', { 'type': 'highpass', 'freq': 3. }),\n",
    "        ('interpolate', {'sampling_rate': 50, 'method':'lanczos', 'a':20 }),\n",
    "        ('filter', { 'type': 'lowpass', 'freq': 20. }),\n",
    "        ('trim', {}),\n",
    "        ('detrend', { 'type': 'demean' }),\n",
    "        ('taper', { 'type': 'cosine', 'max_percentage': 0.05, 'max_length': 30.}),\n",
    "        # ('running_rms', {}),\n",
    "    ],\n",
    "    'BHR': [\n",
    "        ('merge', { 'method': 1, 'fill_value': 'interpolate', 'interpolation_samples':0 }),\n",
    "        ('filter', {'type':'highpass','freq':.05}),\n",
    "        ('detrend', { 'type': 'demean' }),\n",
    "        ('remove_response', {'output': 'VEL'}),\n",
    "        ('rotate', {'method':'->ZNE'}),\n",
    "        ('rotate', {'method':'NE->RT', 'back_azimuth':250.39 }),\n",
    "        ('select', {'channel':'BHR'}),\n",
    "        ('filter', { 'type': 'highpass', 'freq': 3. }),\n",
    "        ('interpolate', {'sampling_rate': 50, 'method':'lanczos', 'a':20 }),\n",
    "        ('filter', { 'type': 'lowpass', 'freq': 20. }),\n",
    "        ('trim', {}),\n",
    "        ('detrend', { 'type': 'demean' }),\n",
    "        ('taper', { 'type': 'cosine', 'max_percentage': 0.05, 'max_length': 30.}),\n",
    "        # ('running_rms', {}),\n",
    "    ],\n",
    "    'EDH': [\n",
    "        ('merge', { 'method': 1, 'fill_value': 'interpolate', 'interpolation_samples':0 }),\n",
    "        ('filter', {'type':'highpass','freq':.05}),\n",
    "        ('detrend', { 'type': 'demean' }),\n",
    "        ('remove_sensitivity', {}),\n",
    "        # ('remove_response', {}),\n",
    "        ('filter', { 'type': 'bandpass', 'freqmin': 3., 'freqmax': 20. }),\n",
    "        ('decimate', { 'factor': 5 }),\n",
    "        ('trim', {}),\n",
    "        ('detrend', { 'type': 'demean' }),\n",
    "        ('taper', {'type': 'cosine', 'max_percentage': 0.05, 'max_length': 30.}),\n",
    "        # ('running_rms', {}),\n",
    "    ],\n",
    "}"
   ]
  },
  {
   "cell_type": "code",
   "execution_count": null,
   "metadata": {},
   "outputs": [],
   "source": [
    "inv = read_inventory('Monowai.xml')\n",
    "fig = inv.plot(color=0., projection='local')\n",
    "\n",
    "pairs = [\n",
    "    'IM.H10N1..EDH-IU.RAR.10.BHZ',\n",
    "    'IM.H10N1..EDH-IU.RAR.10.BHR',\n",
    "    'IM.H03S1..EDH-IU.RAR.10.BHZ',\n",
    "    'IM.H03S1..EDH-IU.RAR.10.BHR',\n",
    "]\n",
    "times = pd.date_range('2015-01-15', '2015-01-20', freq='1D')"
   ]
  },
  {
   "cell_type": "markdown",
   "metadata": {},
   "source": [
    "## Get waveforms"
   ]
  },
  {
   "cell_type": "code",
   "execution_count": null,
   "metadata": {},
   "outputs": [],
   "source": [
    "EDH = client.get_waveforms(\n",
    "    receiver = 'IM.H10N1..EDH', \n",
    "    time = pd.to_datetime('2015-01-01T12:00'), \n",
    "    verbose = True,\n",
    ")"
   ]
  },
  {
   "cell_type": "code",
   "execution_count": null,
   "metadata": {},
   "outputs": [],
   "source": [
    "EDH.plot()"
   ]
  },
  {
   "cell_type": "code",
   "execution_count": null,
   "metadata": {},
   "outputs": [],
   "source": [
    "EDH = client.get_preprocessed_waveforms(\n",
    "    receiver = 'IM.H10N1..EDH', \n",
    "    time = pd.to_datetime('2015-01-01T12:00'), \n",
    "    operations = preprocess,\n",
    "    inventory = inv,\n",
    "    verbose = True,\n",
    ")"
   ]
  },
  {
   "cell_type": "code",
   "execution_count": null,
   "metadata": {},
   "outputs": [],
   "source": [
    "EDH.plot()"
   ]
  },
  {
   "cell_type": "code",
   "execution_count": null,
   "metadata": {},
   "outputs": [],
   "source": [
    "inv.get_response('IM.H10N1..EDH',UTCDateTime('2015-01-15'))"
   ]
  },
  {
   "cell_type": "code",
   "execution_count": null,
   "metadata": {},
   "outputs": [],
   "source": [
    "inv.get_response('IM.H03S1..EDH',UTCDateTime('2015-01-15'))"
   ]
  },
  {
   "cell_type": "code",
   "execution_count": null,
   "metadata": {},
   "outputs": [],
   "source": [
    "BHZ = client.get_preprocessed_waveforms(\n",
    "    receiver = 'IU.RAR.10.BHZ', \n",
    "    time = pd.to_datetime('2015-01-01T12:00'), \n",
    "    operations = preprocess,\n",
    "    inventory = inv,\n",
    "    verbose = True,\n",
    ")"
   ]
  },
  {
   "cell_type": "code",
   "execution_count": null,
   "metadata": {},
   "outputs": [],
   "source": [
    "BHZ.plot()"
   ]
  },
  {
   "cell_type": "code",
   "execution_count": null,
   "metadata": {
    "scrolled": false
   },
   "outputs": [],
   "source": [
    "BHR = ccf.clients.get_preprocessed_stream(\n",
    "    receiver = 'IU.RAR.10.BHR', \n",
    "    time = pd.to_datetime('2015-01-01T12:00'), \n",
    "    operations = preprocess,\n",
    "    inventory = inv,\n",
    "    verbose = True\n",
    ")"
   ]
  },
  {
   "cell_type": "code",
   "execution_count": null,
   "metadata": {},
   "outputs": [],
   "source": [
    "BHR.plot()"
   ]
  },
  {
   "cell_type": "markdown",
   "metadata": {},
   "source": [
    "## Cross-correlate one day of data"
   ]
  },
  {
   "cell_type": "code",
   "execution_count": null,
   "metadata": {},
   "outputs": [],
   "source": [
    "pair = pairs[0]\n",
    "time = times[0]"
   ]
  },
  {
   "cell_type": "code",
   "execution_count": null,
   "metadata": {},
   "outputs": [],
   "source": [
    "ds = ccf.init_dataset(\n",
    "    pair=pair,\n",
    "    starttime=time,\n",
    "    endtime=time + pd.offsets.DateOffset(1), \n",
    "    attrs=attrs,\n",
    "    preprocess=preprocess, \n",
    "    sampling_rate=sampling_rate, \n",
    "    window_length=window_length, \n",
    "    window_overlap=window_overlap, \n",
    "    clip_lag=clip_lag,\n",
    "    unbiased_cc=False,\n",
    "    inventory=inv,\n",
    "    stationary_poi=poi,\n",
    ")"
   ]
  },
  {
   "cell_type": "code",
   "execution_count": null,
   "metadata": {},
   "outputs": [],
   "source": [
    "ds"
   ]
  },
  {
   "cell_type": "code",
   "execution_count": null,
   "metadata": {
    "scrolled": true
   },
   "outputs": [],
   "source": [
    "ccf.cc_dataset(ds, inventory=inv, client=client)"
   ]
  },
  {
   "cell_type": "code",
   "execution_count": null,
   "metadata": {
    "scrolled": true
   },
   "outputs": [],
   "source": [
    "ccf.write_dataset(ds, 'test.nc')"
   ]
  },
  {
   "cell_type": "code",
   "execution_count": null,
   "metadata": {
    "scrolled": true
   },
   "outputs": [],
   "source": [
    "ds.history"
   ]
  },
  {
   "cell_type": "markdown",
   "metadata": {},
   "source": [
    "### A whole period"
   ]
  },
  {
   "cell_type": "code",
   "execution_count": null,
   "metadata": {},
   "outputs": [],
   "source": [
    "ds"
   ]
  },
  {
   "cell_type": "code",
   "execution_count": null,
   "metadata": {
    "scrolled": true
   },
   "outputs": [],
   "source": [
    "def filename(pair:str,time:pd.datetime):\n",
    "    return '{pair}.{y:04d}.{d:03d}.nc'.format(pair=pair,y=time.year,d=time.dayofyear)\n",
    "dest = '/Users/psmets/Documents/Research/_studies/_hydro/monowai_remote/tests/full'"
   ]
  },
  {
   "cell_type": "code",
   "execution_count": null,
   "metadata": {
    "scrolled": true
   },
   "outputs": [],
   "source": [
    "warnings.filterwarnings('ignore') # no warnings of duplicate inventory items\n",
    "\n",
    "for pair in pairs:\n",
    "    print('---------------------------')\n",
    "    print(pair)\n",
    "    print('---------------------------')\n",
    "    for time in times:\n",
    "        ncfile = os.path.join(dest,pair,filename(pair, time))\n",
    "        if os.path.isfile(ncfile):\n",
    "            ds = xr.open_dataset(ncfile)\n",
    "            if ds and np.all(ds.status.values == 1):\n",
    "                ds.close()\n",
    "                continue\n",
    "        if not ds:\n",
    "            ds = ccf.init_dataset(\n",
    "                pair=pair,\n",
    "                starttime=time,\n",
    "                endtime=time + pd.offsets.DateOffset(1), \n",
    "                attrs=attrs,\n",
    "                preprocess=preprocess, \n",
    "                sampling_rate=sampling_rate, \n",
    "                window_length=window_length, \n",
    "                window_overlap=window_overlap, \n",
    "                clip_lag=clip_lag,\n",
    "                unbiased_cc=False,\n",
    "                inventory=inv,\n",
    "                stationary_poi=poi,\n",
    "            )\n",
    "        try:\n",
    "            ccf.cc_dataset(\n",
    "                ds,\n",
    "                inventory=inv.select(\n",
    "                    starttime=UTCDateTime(time),\n",
    "                    endtime=UTCDateTime(time + pd.offsets.DateOffset(1))\n",
    "                ),\n",
    "                client=client,\n",
    "                retry_missing=True,\n",
    "            )\n",
    "        except (KeyboardInterrupt, SystemExit):\n",
    "            raise\n",
    "        except Exception as e:\n",
    "            print('An error occurred. Save and continue next timestep or pair.')\n",
    "            print('Error:')\n",
    "            print(e)\n",
    "        if ds and np.any(ds.status.values != 0):\n",
    "            ccf.write_dataset(ds,ncfile)"
   ]
  },
  {
   "cell_type": "code",
   "execution_count": null,
   "metadata": {},
   "outputs": [],
   "source": []
  }
 ],
 "metadata": {
  "kernelspec": {
   "display_name": "Python 3",
   "language": "python",
   "name": "python3"
  },
  "language_info": {
   "codemirror_mode": {
    "name": "ipython",
    "version": 3
   },
   "file_extension": ".py",
   "mimetype": "text/x-python",
   "name": "python",
   "nbconvert_exporter": "python",
   "pygments_lexer": "ipython3",
   "version": "3.7.6"
  }
 },
 "nbformat": 4,
 "nbformat_minor": 2
}
