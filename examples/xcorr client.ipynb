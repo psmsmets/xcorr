{
 "cells": [
  {
   "cell_type": "markdown",
   "metadata": {},
   "source": [
    "# CC Scheme"
   ]
  },
  {
   "cell_type": "code",
   "execution_count": 2,
   "metadata": {
    "scrolled": false
   },
   "outputs": [
    {
     "name": "stdout",
     "output_type": "stream",
     "text": [
      "The autoreload extension is already loaded. To reload it, use:\n",
      "  %reload_ext autoreload\n"
     ]
    }
   ],
   "source": [
    "%load_ext autoreload\n",
    "%autoreload 2\n",
    "\n",
    "import pandas as pd\n",
    "import matplotlib.pyplot as plt\n",
    "from obspy import UTCDateTime, read_inventory\n",
    "import xcorr"
   ]
  },
  {
   "cell_type": "code",
   "execution_count": 3,
   "metadata": {},
   "outputs": [],
   "source": [
    "%matplotlib notebook"
   ]
  },
  {
   "cell_type": "code",
   "execution_count": null,
   "metadata": {
    "scrolled": true
   },
   "outputs": [],
   "source": [
    "client = xcorr.Client(sds_root='/Users/psmets/Documents/Research/_data/WaveformArchive')"
   ]
  },
  {
   "cell_type": "code",
   "execution_count": null,
   "metadata": {
    "scrolled": false
   },
   "outputs": [],
   "source": [
    "inv = read_inventory('Monowai.xml')\n",
    "fig = inv.plot(color=0., projection='local')"
   ]
  },
  {
   "cell_type": "markdown",
   "metadata": {},
   "source": [
    "## Get waveforms"
   ]
  },
  {
   "cell_type": "code",
   "execution_count": null,
   "metadata": {},
   "outputs": [],
   "source": [
    "EDH = client.get_waveforms(\n",
    "    receiver = 'IM.H03S1..EDH', \n",
    "    time = pd.to_datetime('2015-01-15T12:00'), \n",
    "    verbose = True,\n",
    ")"
   ]
  },
  {
   "cell_type": "code",
   "execution_count": null,
   "metadata": {},
   "outputs": [],
   "source": [
    "EDH.plot()"
   ]
  },
  {
   "cell_type": "markdown",
   "metadata": {},
   "source": [
    "## Preprocess settings"
   ]
  },
  {
   "cell_type": "code",
   "execution_count": null,
   "metadata": {},
   "outputs": [],
   "source": [
    "# stream preprocess operations (sequential!)\n",
    "preprocess = {\n",
    "    'BHZ': [\n",
    "        ('merge', { 'method': 1, 'fill_value': 'interpolate', 'interpolation_samples':0 }),\n",
    "        ('filter', {'type':'highpass','freq':.05}),\n",
    "        ('detrend', { 'type': 'demean' }),\n",
    "        ('remove_response', {'output': 'VEL'}),\n",
    "        ('filter', { 'type': 'highpass', 'freq': 3. }),\n",
    "        ('interpolate', {'sampling_rate': 50, 'method':'lanczos', 'a':20 }),\n",
    "        ('filter', { 'type': 'lowpass', 'freq': 20. }),\n",
    "        ('trim', {}),\n",
    "        ('detrend', { 'type': 'demean' }),\n",
    "        ('taper', { 'type': 'cosine', 'max_percentage': 0.05, 'max_length': 30.}),\n",
    "        # ('running_rms', {}),\n",
    "    ],\n",
    "    'BHR': [\n",
    "        ('merge', { 'method': 1, 'fill_value': 'interpolate', 'interpolation_samples':0 }),\n",
    "        ('filter', {'type':'highpass','freq':.05}),\n",
    "        ('detrend', { 'type': 'demean' }),\n",
    "        ('remove_response', {'output': 'VEL'}),\n",
    "        ('rotate', {'method':'->ZNE'}),\n",
    "        ('rotate', {'method':'NE->RT', 'back_azimuth':250.39 }),\n",
    "        ('select', {'channel':'BHR'}),\n",
    "        ('filter', { 'type': 'highpass', 'freq': 3. }),\n",
    "        ('interpolate', {'sampling_rate': 50, 'method':'lanczos', 'a':20 }),\n",
    "        ('filter', { 'type': 'lowpass', 'freq': 20. }),\n",
    "        ('trim', {}),\n",
    "        ('detrend', { 'type': 'demean' }),\n",
    "        ('taper', { 'type': 'cosine', 'max_percentage': 0.05, 'max_length': 30.}),\n",
    "        # ('running_rms', {}),\n",
    "    ],\n",
    "    'EDH': [\n",
    "        ('merge', { 'method': 1, 'fill_value': 'interpolate', 'interpolation_samples':0 }),\n",
    "        ('filter', {'type':'highpass','freq':.05}),\n",
    "        ('detrend', { 'type': 'demean' }),\n",
    "        ('remove_sensitivity', {}),\n",
    "        # ('remove_response', {}),\n",
    "        ('filter', { 'type': 'bandpass', 'freqmin': 3., 'freqmax': 20. }),\n",
    "        ('decimate', { 'factor': 5 }),\n",
    "        ('trim', {}),\n",
    "        ('detrend', { 'type': 'demean' }),\n",
    "        ('taper', {'type': 'cosine', 'max_percentage': 0.05, 'max_length': 30.}),\n",
    "        # ('running_rms', {}),\n",
    "    ],\n",
    "}"
   ]
  },
  {
   "cell_type": "code",
   "execution_count": null,
   "metadata": {},
   "outputs": [],
   "source": [
    "EDH = client.get_preprocessed_waveforms(\n",
    "    receiver = 'IM.H10N1..EDH', \n",
    "    time = pd.to_datetime('2015-01-01T12:00'), \n",
    "    operations = preprocess,\n",
    "    inventory = inv,\n",
    "    verbose = True,\n",
    ")"
   ]
  },
  {
   "cell_type": "code",
   "execution_count": null,
   "metadata": {},
   "outputs": [],
   "source": [
    "EDH.plot()"
   ]
  },
  {
   "cell_type": "code",
   "execution_count": null,
   "metadata": {},
   "outputs": [],
   "source": [
    "BHZ = client.get_preprocessed_waveforms(\n",
    "    receiver = 'IU.RAR.10.BHZ', \n",
    "    time = pd.to_datetime('2015-01-15T12:00'), \n",
    "    operations = preprocess,\n",
    "    inventory = inv,\n",
    "    verbose = True,\n",
    ")"
   ]
  },
  {
   "cell_type": "code",
   "execution_count": null,
   "metadata": {},
   "outputs": [],
   "source": [
    "BHZ.plot()"
   ]
  },
  {
   "cell_type": "code",
   "execution_count": null,
   "metadata": {
    "scrolled": false
   },
   "outputs": [],
   "source": [
    "BHR = client.get_preprocessed_waveforms(\n",
    "    receiver = 'IU.RAR.10.BHR', \n",
    "    time = pd.to_datetime('2015-01-15T12:00'), \n",
    "    operations = preprocess,\n",
    "    inventory = inv,\n",
    "    verbose = True\n",
    ")"
   ]
  },
  {
   "cell_type": "code",
   "execution_count": null,
   "metadata": {},
   "outputs": [],
   "source": [
    "BHR.plot()"
   ]
  },
  {
   "cell_type": "markdown",
   "metadata": {},
   "source": [
    "## Preprocessed pair stream"
   ]
  },
  {
   "cell_type": "code",
   "execution_count": null,
   "metadata": {},
   "outputs": [],
   "source": [
    "pair = client.get_pair_preprocessed_waveforms(\n",
    "    pair = 'IM.H03S1..EDH-IU.RAR.10.BHZ',\n",
    "    time = pd.to_datetime('2015-01-15T12:00'), \n",
    "    operations = preprocess,\n",
    "    inventory = inv,\n",
    "    verbose = True\n",
    ")"
   ]
  },
  {
   "cell_type": "code",
   "execution_count": null,
   "metadata": {},
   "outputs": [],
   "source": [
    "pair[0].plot()"
   ]
  },
  {
   "cell_type": "code",
   "execution_count": null,
   "metadata": {
    "scrolled": false
   },
   "outputs": [],
   "source": [
    "pair[1].plot()"
   ]
  },
  {
   "cell_type": "markdown",
   "metadata": {},
   "source": [
    "## Hash"
   ]
  },
  {
   "cell_type": "code",
   "execution_count": null,
   "metadata": {},
   "outputs": [],
   "source": [
    "%%timeit\n",
    "xcorr.util.hasher.hash_Stream(pair)"
   ]
  },
  {
   "cell_type": "code",
   "execution_count": null,
   "metadata": {},
   "outputs": [],
   "source": [
    "xcorr.util.hasher.hash(pair)"
   ]
  },
  {
   "cell_type": "code",
   "execution_count": null,
   "metadata": {},
   "outputs": [],
   "source": []
  }
 ],
 "metadata": {
  "kernelspec": {
   "display_name": "Python 3",
   "language": "python",
   "name": "python3"
  },
  "language_info": {
   "codemirror_mode": {
    "name": "ipython",
    "version": 3
   },
   "file_extension": ".py",
   "mimetype": "text/x-python",
   "name": "python",
   "nbconvert_exporter": "python",
   "pygments_lexer": "ipython3",
   "version": "3.7.6"
  }
 },
 "nbformat": 4,
 "nbformat_minor": 2
}
