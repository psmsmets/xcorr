{
 "cells": [
  {
   "cell_type": "markdown",
   "metadata": {},
   "source": [
    "# Monowai CC tests"
   ]
  },
  {
   "cell_type": "code",
   "execution_count": 2,
   "metadata": {
    "scrolled": false
   },
   "outputs": [],
   "source": [
    "%load_ext autoreload\n",
    "%autoreload 2\n",
    "\n",
    "import warnings\n",
    "warnings.simplefilter(action='ignore', category=FutureWarning)\n",
    "\n",
    "import numpy as np\n",
    "import pandas as pd\n",
    "import xarray as xr\n",
    "import matplotlib.pyplot as plt\n",
    "from glob import glob\n",
    "import os\n",
    "import xcorr"
   ]
  },
  {
   "cell_type": "code",
   "execution_count": 3,
   "metadata": {},
   "outputs": [],
   "source": [
    "%matplotlib notebook"
   ]
  },
  {
   "cell_type": "markdown",
   "metadata": {},
   "source": [
    "## Merge files"
   ]
  },
  {
   "cell_type": "code",
   "execution_count": 4,
   "metadata": {},
   "outputs": [],
   "source": [
    "dest = '/Users/psmets/Documents/Research/_studies/_hydro/monowai_remote/tests/full'"
   ]
  },
  {
   "cell_type": "code",
   "execution_count": 5,
   "metadata": {},
   "outputs": [],
   "source": [
    "ncfiles = []\n",
    "for root, dirs, files in os.walk(dest):\n",
    "    path = root.split(os.sep)\n",
    "    # print((len(path) - 1) * '---', os.path.basename(root))\n",
    "    for file in files:\n",
    "        # print(len(path) * '---', file)\n",
    "        if file[1] != '.' and file[-3:] == '.nc':\n",
    "            ncfiles += [os.path.join(root,file)]"
   ]
  },
  {
   "cell_type": "code",
   "execution_count": 6,
   "metadata": {},
   "outputs": [
    {
     "data": {
      "text/plain": [
       "['/Users/psmets/Documents/Research/_studies/_hydro/monowai_remote/tests/full/IM.H03S1..EDH-IU.RAR.10.BHR/IM.H03S1..EDH-IU.RAR.10.BHR.2015.015.nc',\n",
       " '/Users/psmets/Documents/Research/_studies/_hydro/monowai_remote/tests/full/IM.H03S1..EDH-IU.RAR.10.BHR/IM.H03S1..EDH-IU.RAR.10.BHR.2015.016.nc',\n",
       " '/Users/psmets/Documents/Research/_studies/_hydro/monowai_remote/tests/full/IM.H03S1..EDH-IU.RAR.10.BHZ/IM.H03S1..EDH-IU.RAR.10.BHZ.2015.015.nc',\n",
       " '/Users/psmets/Documents/Research/_studies/_hydro/monowai_remote/tests/full/IM.H03S1..EDH-IU.RAR.10.BHZ/IM.H03S1..EDH-IU.RAR.10.BHZ.2015.016.nc',\n",
       " '/Users/psmets/Documents/Research/_studies/_hydro/monowai_remote/tests/full/IM.H10N1..EDH-IU.RAR.10.BHR/IM.H10N1..EDH-IU.RAR.10.BHR.2015.015.nc',\n",
       " '/Users/psmets/Documents/Research/_studies/_hydro/monowai_remote/tests/full/IM.H10N1..EDH-IU.RAR.10.BHR/IM.H10N1..EDH-IU.RAR.10.BHR.2015.016.nc',\n",
       " '/Users/psmets/Documents/Research/_studies/_hydro/monowai_remote/tests/full/IM.H10N1..EDH-IU.RAR.10.BHZ/IM.H10N1..EDH-IU.RAR.10.BHZ.2015.015.nc',\n",
       " '/Users/psmets/Documents/Research/_studies/_hydro/monowai_remote/tests/full/IM.H10N1..EDH-IU.RAR.10.BHZ/IM.H10N1..EDH-IU.RAR.10.BHZ.2015.016.nc']"
      ]
     },
     "execution_count": 6,
     "metadata": {},
     "output_type": "execute_result"
    }
   ],
   "source": [
    "sorted(ncfiles)"
   ]
  },
  {
   "cell_type": "code",
   "execution_count": 7,
   "metadata": {
    "scrolled": true
   },
   "outputs": [],
   "source": [
    "dsets = xcorr.merge(sorted(ncfiles), extract=False, fast=True)"
   ]
  },
  {
   "cell_type": "code",
   "execution_count": 9,
   "metadata": {},
   "outputs": [],
   "source": [
    "xcorr.bias_correct(dsets)"
   ]
  },
  {
   "cell_type": "code",
   "execution_count": 10,
   "metadata": {},
   "outputs": [
    {
     "data": {
      "text/html": [
       "<pre>&lt;xarray.Dataset&gt;\n",
       "Dimensions:      (lag: 1080000, pair: 4, time: 16)\n",
       "Coordinates:\n",
       "  * pair         (pair) object &#x27;IM.H03S1..EDH-IU.RAR.10.BHR&#x27; ... &#x27;IM.H10N1..EDH-IU.RAR.10.BHZ&#x27;\n",
       "  * time         (time) datetime64[ns] 2015-01-15 ... 2015-01-16T21:00:00\n",
       "  * lag          (lag) timedelta64[ns] 00:00:00 ... 05:59:59.980000\n",
       "Data variables:\n",
       "    distance     (pair) float64 7.315e+03 7.315e+03 1.399e+04 1.399e+04\n",
       "    status       (pair, time) int8 1 1 1 1 1 1 1 1 1 1 1 ... 1 1 1 1 1 1 1 1 1 1\n",
       "    hash         (pair, time) object &#x27;b1d5dcafe33602d7c4381a0e2a69a9fcab3480cba5faa0baa8ae730321b90f60&#x27; ... &#x27;149cb3e057e13a435b393c24622c59c19cb8accc0256ddf1d407e97dde8e19a9&#x27;\n",
       "    pair_offset  (pair, time) timedelta64[ns] 00:00:00.005500 ... 00:00:00.005500\n",
       "    time_offset  (pair, time) timedelta64[ns] 00:00:00 00:00:00 ... 00:00:00\n",
       "    cc           (pair, time, lag) float32 0.0011199159 ... 0.0005072624\n",
       "    w            (lag) float64 1.0 1.0 1.0 1.0 1.0 ... 1.333 1.333 1.333 1.333\n",
       "Attributes:\n",
       "    title:                 Monowai Volcanic Centre Crosscorrelations - 2015.0...\n",
       "    institution:           Delft University of Technology, Department of Geos...\n",
       "    author:                Pieter Smets - P.S.M.Smets@tudelft.nl\n",
       "    source:                CTBTO/IMS hydroacoustic data and IRIS/USGS seismic...\n",
       "    history:               Merged @ 2020-03-31 06:27:35.836320, Bias correcte...\n",
       "    references:            Bendat, J. Samuel, &amp; Piersol, A. Gerald. (1971). R...\n",
       "    comment:               n/a\n",
       "    Conventions:           CF-1.9\n",
       "    xcorr_version:         0.1.dev77+g6f8fc5f.d20200326\n",
       "    dependency_versions:   json-2.0.9, numpy-1.16.4, obspy-1.1.0, pandas-1.0....\n",
       "    sha256_hash_metadata:  11c0ed1f5e06e09b670b066a16a50f9cd941cf3952f671830b...</pre>"
      ],
      "text/plain": [
       "<xarray.Dataset>\n",
       "Dimensions:      (lag: 1080000, pair: 4, time: 16)\n",
       "Coordinates:\n",
       "  * pair         (pair) object 'IM.H03S1..EDH-IU.RAR.10.BHR' ... 'IM.H10N1..EDH-IU.RAR.10.BHZ'\n",
       "  * time         (time) datetime64[ns] 2015-01-15 ... 2015-01-16T21:00:00\n",
       "  * lag          (lag) timedelta64[ns] 00:00:00 ... 05:59:59.980000\n",
       "Data variables:\n",
       "    distance     (pair) float64 7.315e+03 7.315e+03 1.399e+04 1.399e+04\n",
       "    status       (pair, time) int8 1 1 1 1 1 1 1 1 1 1 1 ... 1 1 1 1 1 1 1 1 1 1\n",
       "    hash         (pair, time) object 'b1d5dcafe33602d7c4381a0e2a69a9fcab3480cba5faa0baa8ae730321b90f60' ... '149cb3e057e13a435b393c24622c59c19cb8accc0256ddf1d407e97dde8e19a9'\n",
       "    pair_offset  (pair, time) timedelta64[ns] 00:00:00.005500 ... 00:00:00.005500\n",
       "    time_offset  (pair, time) timedelta64[ns] 00:00:00 00:00:00 ... 00:00:00\n",
       "    cc           (pair, time, lag) float32 0.0011199159 ... 0.0005072624\n",
       "    w            (lag) float64 1.0 1.0 1.0 1.0 1.0 ... 1.333 1.333 1.333 1.333\n",
       "Attributes:\n",
       "    title:                 Monowai Volcanic Centre Crosscorrelations - 2015.0...\n",
       "    institution:           Delft University of Technology, Department of Geos...\n",
       "    author:                Pieter Smets - P.S.M.Smets@tudelft.nl\n",
       "    source:                CTBTO/IMS hydroacoustic data and IRIS/USGS seismic...\n",
       "    history:               Merged @ 2020-03-31 06:27:35.836320, Bias correcte...\n",
       "    references:            Bendat, J. Samuel, & Piersol, A. Gerald. (1971). R...\n",
       "    comment:               n/a\n",
       "    Conventions:           CF-1.9\n",
       "    xcorr_version:         0.1.dev77+g6f8fc5f.d20200326\n",
       "    dependency_versions:   json-2.0.9, numpy-1.16.4, obspy-1.1.0, pandas-1.0....\n",
       "    sha256_hash_metadata:  11c0ed1f5e06e09b670b066a16a50f9cd941cf3952f671830b..."
      ]
     },
     "execution_count": 10,
     "metadata": {},
     "output_type": "execute_result"
    }
   ],
   "source": [
    "dsets"
   ]
  },
  {
   "cell_type": "code",
   "execution_count": 11,
   "metadata": {},
   "outputs": [],
   "source": [
    "vel = dict(min=1.45, max=1.50)"
   ]
  },
  {
   "cell_type": "code",
   "execution_count": 65,
   "metadata": {},
   "outputs": [],
   "source": [
    "signal_mask = xcorr.signal.multi_mask_coord(\n",
    "    primary=dsets.lag, secondary=dsets.distance,\n",
    "    # lower=1/vel['max'], upper=1/vel['min'],\n",
    "    lower=vel['min'], upper=vel['max'], invert=True,\n",
    ")"
   ]
  },
  {
   "cell_type": "code",
   "execution_count": 66,
   "metadata": {
    "scrolled": false
   },
   "outputs": [
    {
     "data": {
      "text/plain": [
       "'xcorr-0.1.dev84+g676dada.d20200327: multi_mask_coord({\"primary\":\"lag\",\"secondary\":\"distance\",\"lower\":1.45,\"upper\":1.5,\"invert\":true,\"name\":\"mask_lag_distance\"})'"
      ]
     },
     "execution_count": 66,
     "metadata": {},
     "output_type": "execute_result"
    }
   ],
   "source": [
    "signal_mask.history"
   ]
  },
  {
   "cell_type": "code",
   "execution_count": 57,
   "metadata": {},
   "outputs": [],
   "source": [
    "noise_mask = xcorr.signal.mask_coord(\n",
    "    coord=dsets.lag, lower=.2, scalar=dsets.time.window_length, invert=False,\n",
    ")"
   ]
  },
  {
   "cell_type": "code",
   "execution_count": 54,
   "metadata": {},
   "outputs": [
    {
     "data": {
      "text/plain": [
       "'None'"
      ]
     },
     "execution_count": 54,
     "metadata": {},
     "output_type": "execute_result"
    }
   ],
   "source": [
    "repr(None)"
   ]
  },
  {
   "cell_type": "code",
   "execution_count": 56,
   "metadata": {},
   "outputs": [
    {
     "data": {
      "text/plain": [
       "'xcorr-0.1.dev84+g676dada.d20200327: mask_coord({\"coord\":\"lag\",\"lower\":0.2,\"upper\":null,\"scalar\":86400.0,\"invert\":false,\"name\":\"mask_lag\",\"to_where\":false,\"**kwargs\":{}})'"
      ]
     },
     "execution_count": 56,
     "metadata": {},
     "output_type": "execute_result"
    }
   ],
   "source": [
    "noise_mask.history"
   ]
  },
  {
   "cell_type": "code",
   "execution_count": 46,
   "metadata": {},
   "outputs": [
    {
     "ename": "NameError",
     "evalue": "name 'noise_mask' is not defined",
     "output_type": "error",
     "traceback": [
      "\u001b[0;31m---------------------------------------------------------------------------\u001b[0m",
      "\u001b[0;31mNameError\u001b[0m                                 Traceback (most recent call last)",
      "\u001b[0;32m<ipython-input-46-0c335ab9306f>\u001b[0m in \u001b[0;36m<module>\u001b[0;34m\u001b[0m\n\u001b[0;32m----> 1\u001b[0;31m \u001b[0mxcorr\u001b[0m\u001b[0;34m.\u001b[0m\u001b[0msignal\u001b[0m\u001b[0;34m.\u001b[0m\u001b[0msnr\u001b[0m\u001b[0;34m(\u001b[0m\u001b[0mdsets\u001b[0m\u001b[0;34m.\u001b[0m\u001b[0mcc\u001b[0m\u001b[0;34m,\u001b[0m\u001b[0msignal\u001b[0m\u001b[0;34m=\u001b[0m\u001b[0msignal_mask\u001b[0m\u001b[0;34m,\u001b[0m\u001b[0mnoise\u001b[0m\u001b[0;34m=\u001b[0m\u001b[0mnoise_mask\u001b[0m\u001b[0;34m,\u001b[0m\u001b[0mdim\u001b[0m\u001b[0;34m=\u001b[0m\u001b[0;34m'lag'\u001b[0m\u001b[0;34m)\u001b[0m\u001b[0;34m\u001b[0m\u001b[0;34m\u001b[0m\u001b[0m\n\u001b[0m",
      "\u001b[0;31mNameError\u001b[0m: name 'noise_mask' is not defined"
     ]
    }
   ],
   "source": [
    "xcorr.signal.snr(dsets.cc,signal=signal_mask,noise=noise_mask,dim='lag')"
   ]
  },
  {
   "cell_type": "code",
   "execution_count": null,
   "metadata": {
    "scrolled": true
   },
   "outputs": [],
   "source": [
    "_.history"
   ]
  },
  {
   "cell_type": "code",
   "execution_count": null,
   "metadata": {},
   "outputs": [],
   "source": [
    "dsets.distance[0]"
   ]
  },
  {
   "cell_type": "code",
   "execution_count": null,
   "metadata": {},
   "outputs": [],
   "source": [
    "xcorr"
   ]
  },
  {
   "cell_type": "code",
   "execution_count": null,
   "metadata": {
    "scrolled": true
   },
   "outputs": [],
   "source": [
    "dsets['test']=dsets.cc.where(mask)"
   ]
  },
  {
   "cell_type": "code",
   "execution_count": null,
   "metadata": {},
   "outputs": [],
   "source": [
    "dsets.history"
   ]
  },
  {
   "cell_type": "code",
   "execution_count": null,
   "metadata": {},
   "outputs": [],
   "source": [
    "dsets"
   ]
  },
  {
   "cell_type": "code",
   "execution_count": null,
   "metadata": {},
   "outputs": [],
   "source": [
    "plt.figure(figsize=[9,4])\n",
    "test.loc[{'time':dsets.time[8]}].plot.line(x='lag',add_legend=False)"
   ]
  },
  {
   "cell_type": "code",
   "execution_count": null,
   "metadata": {
    "scrolled": false
   },
   "outputs": [],
   "source": [
    "plt.figure(figsize=[9,4])\n",
    "dsets.cc.loc[{'pair':dsets.pair[0]}].plot.line(x='lag',add_legend=False)"
   ]
  },
  {
   "cell_type": "code",
   "execution_count": null,
   "metadata": {},
   "outputs": [],
   "source": [
    "plt.figure(figsize=[9,4])\n",
    "dsets.cc.loc[{'pair':dsets.pair[1]}].plot.line(x='lag',add_legend=False)"
   ]
  },
  {
   "cell_type": "code",
   "execution_count": null,
   "metadata": {},
   "outputs": [],
   "source": []
  }
 ],
 "metadata": {
  "kernelspec": {
   "display_name": "Python 3",
   "language": "python",
   "name": "python3"
  }
 },
 "nbformat": 4,
 "nbformat_minor": 2
}
