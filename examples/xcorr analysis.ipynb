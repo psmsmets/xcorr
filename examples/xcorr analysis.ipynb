{
 "cells": [
  {
   "cell_type": "markdown",
   "metadata": {},
   "source": [
    "# Monowai CC tests"
   ]
  },
  {
   "cell_type": "code",
   "execution_count": 28,
   "metadata": {
    "scrolled": false
   },
   "outputs": [
    {
     "name": "stdout",
     "output_type": "stream",
     "text": [
      "The autoreload extension is already loaded. To reload it, use:\n",
      "  %reload_ext autoreload\n"
     ]
    }
   ],
   "source": [
    "%load_ext autoreload\n",
    "%autoreload 2\n",
    "\n",
    "import warnings\n",
    "warnings.simplefilter(action='ignore', category=FutureWarning)\n",
    "\n",
    "import numpy as np\n",
    "import pandas as pd\n",
    "import xarray as xr\n",
    "import matplotlib.pyplot as plt\n",
    "from glob import glob\n",
    "import os\n",
    "import xcorr"
   ]
  },
  {
   "cell_type": "code",
   "execution_count": 29,
   "metadata": {},
   "outputs": [],
   "source": [
    "%matplotlib notebook"
   ]
  },
  {
   "cell_type": "markdown",
   "metadata": {},
   "source": [
    "### open a file"
   ]
  },
  {
   "cell_type": "code",
   "execution_count": 30,
   "metadata": {},
   "outputs": [],
   "source": [
    "root = '../data/results'\n",
    "time = pd.to_datetime('2015-01-15')\n",
    "\n",
    "hydro = {\n",
    "    'network'  : 'IM',\n",
    "    'station'  : 'H10N1',\n",
    "    'location' : '',\n",
    "    'channel'  : 'EDH',\n",
    "}\n",
    "seism = {\n",
    "    'network'  : 'IU',\n",
    "    'station'  : 'RAR',\n",
    "    'location' : '10',\n",
    "    'channel'  : 'BHZ',\n",
    "}\n",
    "\n",
    "vel = dict( min=1.46, max=1.50 )\n",
    "filter_params = dict(frequency=3., btype='highpass', order=2, inplace=True)\n",
    "taper_params = dict(max_length=2/3., inplace=True)\n",
    "\n",
    "bhz = xcorr.read(xcorr.util.ncfile((hydro, seism), time, root), fast=True)\n",
    "bhr = xcorr.read(xcorr.util.ncfile((hydro, {**seism,'channel':'BHR'}), time, root), fast=True)\n",
    "\n",
    "assert bhz, 'No data found!'\n",
    "\n",
    "if bhz:\n",
    "    xcorr.signal.filter(bhz.cc, **filter_params)\n",
    "    xcorr.signal.taper(bhz.cc, **taper_params)\n",
    "    xcorr.bias_correct(bhz,unbiased_var='cc_w')\n",
    "if bhr:\n",
    "    xcorr.signal.filter(bhr.cc, **filter_params)\n",
    "    xcorr.signal.taper(bhr.cc, **taper_params)\n",
    "    xcorr.bias_correct(bhr,unbiased_var='cc_w')"
   ]
  },
  {
   "cell_type": "markdown",
   "metadata": {},
   "source": [
    "### CCF noise window"
   ]
  },
  {
   "cell_type": "code",
   "execution_count": null,
   "metadata": {
    "scrolled": false
   },
   "outputs": [],
   "source": [
    "plt.figure(figsize=[9,4])\n",
    "bhz.cc_w.loc[{'time':bhz.time[1]}].plot.line(x='lag',add_legend=False,color='orange')\n",
    "bhz.cc.loc[{'time':bhz.time[1]}].plot.line(x='lag',add_legend=False,color='blue')"
   ]
  },
  {
   "cell_type": "code",
   "execution_count": null,
   "metadata": {},
   "outputs": [],
   "source": [
    "noise_win = xcorr.signal.mask(\n",
    "    x=bhz.lag,\n",
    "    lower=.2,\n",
    "    upper=.25,\n",
    "    scalar=bhz.time.window_length\n",
    ")\n",
    "\n",
    "signal_win = xcorr.signal.mask(\n",
    "    x=bhz.lag,\n",
    "    lower=1/vel['max'],\n",
    "    upper=1/vel['min'],\n",
    "    scalar=bhz.distance.values[0]\n",
    ")\n",
    "\n",
    "valid_win = xcorr.signal.mask(\n",
    "    x=bhz.lag,\n",
    "    upper=.25,\n",
    "    scalar=bhz.time.window_length\n",
    ")\n",
    "\n",
    "i = 1"
   ]
  },
  {
   "cell_type": "code",
   "execution_count": null,
   "metadata": {},
   "outputs": [],
   "source": [
    "plt.figure(figsize=[9,4])\n",
    "if bhr:\n",
    "    bhr.cc.loc[{'time':bhr.time[i],'lag':bhr.lag[valid_win]}].plot.line(x='lag',add_legend=False,color='blue')\n",
    "if bhz:\n",
    "    bhz.cc.loc[{'time':bhz.time[i],'lag':bhz.lag[valid_win]}].plot.line(x='lag',add_legend=False,color='orange')"
   ]
  },
  {
   "cell_type": "code",
   "execution_count": null,
   "metadata": {
    "scrolled": false
   },
   "outputs": [],
   "source": [
    "plt.figure(figsize=[9,4])\n",
    "if bhr:\n",
    "    bhr.cc.loc[{'time':bhr.time[i],'lag':bhr.lag[signal_win]}].plot.line(x='lag',add_legend=False,color='blue')\n",
    "if bhz:\n",
    "    bhz.cc.loc[{'time':bhz.time[i],'lag':bhz.lag[signal_win]}].plot.line(x='lag',add_legend=False,color='orange')"
   ]
  },
  {
   "cell_type": "code",
   "execution_count": null,
   "metadata": {
    "scrolled": false
   },
   "outputs": [],
   "source": [
    "plt.figure(figsize=[9,4])\n",
    "if bhr:\n",
    "    bhr.cc_w.loc[{'time':bhr.time[i],'lag':bhr.lag[signal_win]}].plot.line(x='lag',add_legend=False,color='blue')\n",
    "if bhz:\n",
    "    bhz.cc_w.loc[{'time':bhz.time[i],'lag':bhz.lag[signal_win]}].plot.line(x='lag',add_legend=False,color='orange')"
   ]
  },
  {
   "cell_type": "code",
   "execution_count": null,
   "metadata": {},
   "outputs": [],
   "source": [
    "plt.figure(figsize=[9,4])\n",
    "if bhr:\n",
    "    bhr.cc_w.loc[{'time':bhr.time[i],'lag':bhr.lag[noise_win]}].plot.line(x='lag',add_legend=False,color='blue')\n",
    "if bhz:\n",
    "    bhz.cc_w.loc[{'time':bhz.time[i],'lag':bhz.lag[noise_win]}].plot.line(x='lag',add_legend=False,color='orange')"
   ]
  },
  {
   "cell_type": "code",
   "execution_count": null,
   "metadata": {},
   "outputs": [],
   "source": [
    "bhz['snr'] = xcorr.signal.snr(x=bhz.cc, signal=signal_win, noise=noise_win)\n",
    "bhr['snr'] = xcorr.signal.snr(x=bhr.cc, signal=signal_win, noise=noise_win)"
   ]
  },
  {
   "cell_type": "code",
   "execution_count": null,
   "metadata": {
    "scrolled": true
   },
   "outputs": [],
   "source": [
    "bhz.snr"
   ]
  },
  {
   "cell_type": "code",
   "execution_count": null,
   "metadata": {},
   "outputs": [],
   "source": [
    "plt.figure(figsize=[9,4])\n",
    "bhr.snr.plot.line(x='time',add_legend=False,color='blue')\n",
    "bhz.snr.plot.line(x='time',add_legend=False,color='orange')"
   ]
  },
  {
   "cell_type": "markdown",
   "metadata": {},
   "source": [
    "### xcorr full day (#8)"
   ]
  },
  {
   "cell_type": "code",
   "execution_count": null,
   "metadata": {},
   "outputs": [],
   "source": [
    "snr_min = 5\n",
    "\n",
    "plt.figure(figsize=[9,4])\n",
    "if bhr:\n",
    "    snr_pass = bhr.snr.loc[{'pair':bhr.pair[0]}] >= snr_min\n",
    "    if any(snr_pass):\n",
    "        bhr.cc_w.loc[{\n",
    "            'time':bhr.time[snr_pass],\n",
    "            'lag':bhr.lag[signal_win],\n",
    "            'pair':bhr.pair[0]\n",
    "        }].plot.line(x='lag',add_legend=False,color='blue',alpha=0.3)\n",
    "if bhz:\n",
    "    snr_pass = bhz.snr.loc[{'pair':bhz.pair[0]}] >= snr_min\n",
    "    if any(snr_pass):\n",
    "        bhz.cc_w.loc[{\n",
    "            'time':bhz.time[snr_pass],\n",
    "            'lag':bhz.lag[signal_win],\n",
    "            'pair':bhz.pair[0]\n",
    "        }].plot.line(x='lag',add_legend=False,color='orange',alpha=0.3)"
   ]
  },
  {
   "cell_type": "markdown",
   "metadata": {},
   "source": [
    "## Spectrogram"
   ]
  },
  {
   "cell_type": "code",
   "execution_count": null,
   "metadata": {
    "scrolled": true
   },
   "outputs": [],
   "source": [
    "psd = xcorr.signal.psd(\n",
    "    bhz.cc_w.loc[{'lag':bhz.lag[signal_win]}],\n",
    "    duration = 2.,\n",
    "    padding_factor = 4,\n",
    ")"
   ]
  },
  {
   "cell_type": "code",
   "execution_count": null,
   "metadata": {
    "scrolled": false
   },
   "outputs": [],
   "source": [
    "plt.figure()\n",
    "psd.loc[{'time':psd.time[4],'pair':psd.pair[0]}].plot.imshow(x='lag')"
   ]
  },
  {
   "cell_type": "code",
   "execution_count": null,
   "metadata": {},
   "outputs": [],
   "source": [
    "psd_mean = psd.dropna(dim='lag').sum(dim='time',skipna=True).mean(dim='pair',skipna=True)"
   ]
  },
  {
   "cell_type": "code",
   "execution_count": null,
   "metadata": {
    "scrolled": false
   },
   "outputs": [],
   "source": [
    "plt.figure()\n",
    "psd_mean.plot.imshow(x='lag')"
   ]
  },
  {
   "cell_type": "code",
   "execution_count": null,
   "metadata": {},
   "outputs": [],
   "source": []
  }
 ],
 "metadata": {
  "kernelspec": {
   "display_name": "Python 3",
   "language": "python",
   "name": "python3"
  },
  "language_info": {
   "codemirror_mode": {
    "name": "ipython",
    "version": 3
   },
   "file_extension": ".py",
   "mimetype": "text/x-python",
   "name": "python",
   "nbconvert_exporter": "python",
   "pygments_lexer": "ipython3",
   "version": "3.7.6"
  }
 },
 "nbformat": 4,
 "nbformat_minor": 2
}
