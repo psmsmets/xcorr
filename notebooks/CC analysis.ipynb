{
 "cells": [
  {
   "cell_type": "markdown",
   "metadata": {},
   "source": [
    "# Monowai CC tests"
   ]
  },
  {
   "cell_type": "code",
   "execution_count": null,
   "metadata": {
    "scrolled": false
   },
   "outputs": [],
   "source": [
    "%load_ext autoreload\n",
    "%autoreload 2\n",
    "\n",
    "import warnings\n",
    "warnings.simplefilter(action='ignore', category=FutureWarning)\n",
    "\n",
    "import numpy as np\n",
    "import pandas as pd\n",
    "import xarray as xr\n",
    "import matplotlib.pyplot as plt\n",
    "from obspy import read_inventory\n",
    "import os\n",
    "import ccf"
   ]
  },
  {
   "cell_type": "code",
   "execution_count": null,
   "metadata": {},
   "outputs": [],
   "source": [
    "%matplotlib notebook"
   ]
  },
  {
   "cell_type": "markdown",
   "metadata": {},
   "source": [
    "### Open a file"
   ]
  },
  {
   "cell_type": "code",
   "execution_count": null,
   "metadata": {},
   "outputs": [],
   "source": [
    "def filename(path:str, r1:dict, r2:dict, time:pd.datetime):\n",
    "    pair = '-'.join([ccf.helpers.merge_receiver(r1), ccf.helpers.merge_receiver(r2)])\n",
    "    return os.path.join(path,pair,'{p}.{y:04d}.{d:03d}.nc'.format(p=pair,y=time.year,d=time.dayofyear))"
   ]
  },
  {
   "cell_type": "code",
   "execution_count": null,
   "metadata": {},
   "outputs": [],
   "source": [
    "time = pd.to_datetime('2015-01-15')\n",
    "\n",
    "hydro = {\n",
    "    'network'  : 'IM',\n",
    "    'station'  : 'H10N1',\n",
    "    'location' : '',\n",
    "    'channel'  : 'EDH',\n",
    "}\n",
    "seism = {\n",
    "    'network'  : 'AU',\n",
    "    'station'  : 'NIUE',\n",
    "    'location' : '',\n",
    "    'channel'  : 'BHZ',\n",
    "}\n",
    "\n",
    "vel = dict( min=1.46, max=1.50 )\n",
    "\n",
    "bhz = ccf.open_dataset( filename(pwd, hydro, seism, time) )\n",
    "bhr = None\n",
    "\n",
    "assert bhz, 'No data found!'\n",
    "\n",
    "if bhz:\n",
    "    ccf.bias_correct_dataset(bhz,unbiased_var='cc_w')\n",
    "if bhr:\n",
    "    ccf.bias_correct_dataset(bhr,unbiased_var='cc_w')"
   ]
  },
  {
   "cell_type": "markdown",
   "metadata": {},
   "source": [
    "### CCF noise window"
   ]
  },
  {
   "cell_type": "code",
   "execution_count": null,
   "metadata": {
    "scrolled": false
   },
   "outputs": [],
   "source": [
    "plt.figure(figsize=[9,4])\n",
    "bhz.cc_w.loc[{'time':bhz.time[1]}].plot.line(x='lag',add_legend=False,color='orange')\n",
    "bhz.cc.loc[{'time':bhz.time[1]}].plot.line(x='lag',add_legend=False,color='blue')"
   ]
  },
  {
   "cell_type": "code",
   "execution_count": null,
   "metadata": {},
   "outputs": [],
   "source": [
    "noise_lim = pd.to_timedelta([bhz.time.window_length * v for v in [.2, .3]], unit='s')\n",
    "\n",
    "noise_win = (\n",
    "    ( bhz.lag/ccf.helpers.one_second >= noise_lim[0]/ccf.helpers.one_second ) & \n",
    "    ( bhz.lag/ccf.helpers.one_second <= noise_lim[1]/ccf.helpers.one_second )\n",
    ")\n",
    "\n",
    "signal_lim = pd.to_timedelta((bhz.distance.values/vel['max'],bhz.distance.values/vel['min']), unit = 's' )\n",
    "\n",
    "signal_win = (\n",
    "    ( bhz.lag/ccf.helpers.one_second >= signal_lim[0]/ccf.helpers.one_second ) & \n",
    "    ( bhz.lag/ccf.helpers.one_second <= signal_lim[1]/ccf.helpers.one_second )\n",
    ")\n",
    "\n",
    "valid_win = ( abs(bhz.lag/ccf.helpers.one_second) <= noise_lim[1]/ccf.helpers.one_second )\n",
    "\n",
    "i = 1\n",
    "\n",
    "print('signal : ', signal_lim)\n",
    "print('noise  : ', noise_lim)"
   ]
  },
  {
   "cell_type": "code",
   "execution_count": null,
   "metadata": {},
   "outputs": [],
   "source": [
    "plt.figure(figsize=[9,4])\n",
    "if bhr:\n",
    "    bhr.cc.loc[{'time':bhr.time[i],'lag':bhr.lag[valid_win]}].plot.line(x='lag',add_legend=False,color='blue')\n",
    "if bhz:\n",
    "    bhz.cc.loc[{'time':bhz.time[i],'lag':bhz.lag[valid_win]}].plot.line(x='lag',add_legend=False,color='orange')"
   ]
  },
  {
   "cell_type": "code",
   "execution_count": null,
   "metadata": {
    "scrolled": false
   },
   "outputs": [],
   "source": [
    "plt.figure(figsize=[9,4])\n",
    "if bhr:\n",
    "    bhr.cc.loc[{'time':bhr.time[i],'lag':bhr.lag[signal_win]}].plot.line(x='lag',add_legend=False,color='blue')\n",
    "if bhz:\n",
    "    bhz.cc.loc[{'time':bhz.time[i],'lag':bhz.lag[signal_win]}].plot.line(x='lag',add_legend=False,color='orange')"
   ]
  },
  {
   "cell_type": "code",
   "execution_count": null,
   "metadata": {
    "scrolled": false
   },
   "outputs": [],
   "source": [
    "plt.figure(figsize=[9,4])\n",
    "if bhr:\n",
    "    bhr.cc_w.loc[{'time':bhr.time[i],'lag':bhr.lag[signal_win]}].plot.line(x='lag',add_legend=False,color='blue')\n",
    "if bhz:\n",
    "    bhz.cc_w.loc[{'time':bhz.time[i],'lag':bhz.lag[signal_win]}].plot.line(x='lag',add_legend=False,color='orange')"
   ]
  },
  {
   "cell_type": "code",
   "execution_count": null,
   "metadata": {},
   "outputs": [],
   "source": [
    "plt.figure(figsize=[9,4])\n",
    "if bhr:\n",
    "    bhr.cc_w.loc[{'time':bhr.time[i],'lag':bhr.lag[noise_win]}].plot.line(x='lag',add_legend=False,color='blue')\n",
    "if bhz:\n",
    "    bhz.cc_w.loc[{'time':bhz.time[i],'lag':bhz.lag[noise_win]}].plot.line(x='lag',add_legend=False,color='orange')"
   ]
  },
  {
   "cell_type": "markdown",
   "metadata": {},
   "source": [
    "### SNR"
   ]
  },
  {
   "cell_type": "code",
   "execution_count": null,
   "metadata": {},
   "outputs": [],
   "source": [
    "if bhz:\n",
    "    bhz['snr'] = ( \n",
    "        ccf.postprocess.rms(bhz.cc_w.loc[{'lag':bhz.lag[signal_win]}]) / \n",
    "        ccf.postprocess.rms(bhz.cc_w.loc[{'lag':bhz.lag[noise_win]}])\n",
    "    )\n",
    "    print(bhz.snr)\n",
    "    \n",
    "if bhr:\n",
    "    bhr['snr'] = ( \n",
    "        ccf.postprocess.rms(bhr.cc_w.loc[{'lag':bhr.lag[signal_win]}]) / \n",
    "        ccf.postprocess.rms(bhr.cc_w.loc[{'lag':bhr.lag[noise_win]}])\n",
    "    )\n",
    "    print(bhr.snr)"
   ]
  },
  {
   "cell_type": "markdown",
   "metadata": {},
   "source": [
    "### Select CC based on SNR"
   ]
  },
  {
   "cell_type": "code",
   "execution_count": null,
   "metadata": {},
   "outputs": [],
   "source": [
    "snr_min = 1\n",
    "\n",
    "plt.figure(figsize=[9,4])\n",
    "if bhr and any(bhr.snr >= snr_min):\n",
    "    bhr.cc_w.loc[{'time':bhr.time[snr_w >= snr_min],'lag':bhr.lag[signal_win]}].plot.line(x='lag',add_legend=False,color='blue',alpha=0.3)\n",
    "if bhz and any(bhz.snr >= snr_min):\n",
    "    bhz.cc_w.loc[{'time':bhz.time[snr_w >= snr_min],'lag':bhz.lag[signal_win]}].plot.line(x='lag',add_legend=False,color='orange',alpha=0.3)"
   ]
  },
  {
   "cell_type": "code",
   "execution_count": null,
   "metadata": {},
   "outputs": [],
   "source": []
  }
 ],
 "metadata": {
  "kernelspec": {
   "display_name": "Python 3",
   "language": "python",
   "name": "python3"
  },
  "language_info": {
   "codemirror_mode": {
    "name": "ipython",
    "version": 3
   },
   "file_extension": ".py",
   "mimetype": "text/x-python",
   "name": "python",
   "nbconvert_exporter": "python",
   "pygments_lexer": "ipython3",
   "version": "3.7.6"
  }
 },
 "nbformat": 4,
 "nbformat_minor": 2
}
